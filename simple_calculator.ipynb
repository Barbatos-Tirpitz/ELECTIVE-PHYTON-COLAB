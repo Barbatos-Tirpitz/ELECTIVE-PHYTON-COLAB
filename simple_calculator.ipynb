{
  "nbformat": 4,
  "nbformat_minor": 0,
  "metadata": {
    "colab": {
      "provenance": [],
      "toc_visible": true,
      "authorship_tag": "ABX9TyP1ZwjsTTPPakrUnHyXLAMx",
      "include_colab_link": true
    },
    "kernelspec": {
      "name": "python3",
      "display_name": "Python 3"
    },
    "language_info": {
      "name": "python"
    }
  },
  "cells": [
    {
      "cell_type": "markdown",
      "metadata": {
        "id": "view-in-github",
        "colab_type": "text"
      },
      "source": [
        "<a href=\"https://colab.research.google.com/github/Barbatos-Tirpitz/ELECTIVE-PHYTON-COLAB/blob/main/simple_calculator.ipynb\" target=\"_parent\"><img src=\"https://colab.research.google.com/assets/colab-badge.svg\" alt=\"Open In Colab\"/></a>"
      ]
    },
    {
      "cell_type": "markdown",
      "source": [
        "# 51-65. Interactive Calculator:\n",
        "Build a simple Python calculator that takes user input for numbers and performs basic operations (addition, subtraction, etc.).\n"
      ],
      "metadata": {
        "id": "mpbQMjIHRuw1"
      }
    },
    {
      "cell_type": "code",
      "execution_count": null,
      "metadata": {
        "colab": {
          "base_uri": "https://localhost:8080/"
        },
        "id": "uRSnh-CtQVcY",
        "outputId": "e23c19f2-3fd5-4ee8-c7c4-7b613f68d9b6"
      },
      "outputs": [
        {
          "output_type": "stream",
          "name": "stdout",
          "text": [
            "Simple Calculator\n",
            "1. Addition\n",
            "2. Subtraction\n",
            "3. Multiplication\n",
            "4. Division\n",
            "Enter choice (1/2/3/4): 1\n",
            "Enter first number: 2\n",
            "Enter second number: 2\n",
            "2.0 + 2.0 = 4.0\n"
          ]
        }
      ],
      "source": [
        "def dagdagan(x, y):\n",
        "    return x + y\n",
        "\n",
        "def bawasan(x, y):\n",
        "    return x - y\n",
        "\n",
        "def imultiply(x, y):\n",
        "    return x * y\n",
        "\n",
        "def idibide(x, y):\n",
        "    if y != 0:\n",
        "        return x / y\n",
        "    else:\n",
        "        return \"Cannot divide by zero\"\n",
        "\n",
        "print(\"Simple Calculator\")\n",
        "print(\"1. Addition\")\n",
        "print(\"2. Subtraction\")\n",
        "print(\"3. Multiplication\")\n",
        "print(\"4. Division\")\n",
        "\n",
        "choice = input(\"Enter choice (1/2/3/4): \")\n",
        "\n",
        "if choice in ('1', '2', '3', '4'):\n",
        "    num1 = float(input(\"Enter first number: \"))\n",
        "    num2 = float(input(\"Enter second number: \"))\n",
        "\n",
        "    if choice == '1':\n",
        "        print(num1, \"+\", num2, \"=\", dagdagan(num1, num2))\n",
        "\n",
        "    elif choice == '2':\n",
        "        print(num1, \"-\", num2, \"=\", bawasan(num1, num2))\n",
        "\n",
        "    elif choice == '3':\n",
        "        print(num1, \"*\", num2, \"=\", imultiply(num1, num2))\n",
        "\n",
        "    elif choice == '4':\n",
        "        print(num1, \"/\", num2, \"=\", idibide(num1, num2))\n",
        "\n",
        "else:\n",
        "    print(\"Invalid Input\")\n",
        "\n"
      ]
    }
  ]
}